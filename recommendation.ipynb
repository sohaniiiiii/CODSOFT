{
  "nbformat": 4,
  "nbformat_minor": 0,
  "metadata": {
    "colab": {
      "provenance": [],
      "authorship_tag": "ABX9TyNOilpC3vjO07dWOhoNsghs",
      "include_colab_link": true
    },
    "kernelspec": {
      "name": "python3",
      "display_name": "Python 3"
    },
    "language_info": {
      "name": "python"
    }
  },
  "cells": [
    {
      "cell_type": "markdown",
      "metadata": {
        "id": "view-in-github",
        "colab_type": "text"
      },
      "source": [
        "<a href=\"https://colab.research.google.com/github/sohaniiiiii/CODSOFT/blob/main/recommendation.ipynb\" target=\"_parent\"><img src=\"https://colab.research.google.com/assets/colab-badge.svg\" alt=\"Open In Colab\"/></a>"
      ]
    },
    {
      "cell_type": "code",
      "execution_count": 24,
      "metadata": {
        "id": "ty0e8J7sa91q"
      },
      "outputs": [],
      "source": [
        "import pandas as pd  # For handling datasets\n",
        "import numpy as np  # For numerical computations\n",
        "from sklearn.feature_extraction.text import TfidfVectorizer  # For text processing (genres)\n",
        "from sklearn.metrics.pairwise import cosine_similarity  # For similarity calculations\n",
        "import requests  # For downloading datasets\n",
        "import zipfile  # For extracting files\n",
        "import os  # For file handling"
      ]
    },
    {
      "cell_type": "code",
      "source": [
        "# URL for MovieLens dataset (small version)\n",
        "url = \"https://files.grouplens.org/datasets/movielens/ml-latest-small.zip\"\n",
        "dataset_path = \"ml-latest-small.zip\"\n",
        "\n",
        "# Check if dataset exists, if not, download it\n",
        "if not os.path.exists(\"ml-latest-small\"):\n",
        "    print(\"Downloading MovieLens dataset...\")\n",
        "    response = requests.get(url)\n",
        "\n",
        "    with open(dataset_path, \"wb\") as file:\n",
        "        file.write(response.content)\n",
        "\n",
        "    # Extract the zip file\n",
        "    with zipfile.ZipFile(dataset_path, \"r\") as zip_ref:\n",
        "        zip_ref.extractall(\".\")\n",
        "    print(\"Download complete.\")\n",
        "\n",
        "# Load movie details\n",
        "movies = pd.read_csv(\"ml-latest-small/movies.csv\")\n",
        "ratings = pd.read_csv(\"ml-latest-small/ratings.csv\")\n",
        "\n",
        "# Display first 5 rows of each dataset\n",
        "print(\"Movies Dataset:\")\n",
        "print(movies.head())\n",
        "\n",
        "print(\"\\nRatings Dataset:\")\n",
        "print(ratings.head())"
      ],
      "metadata": {
        "colab": {
          "base_uri": "https://localhost:8080/"
        },
        "id": "OTvJHwuubMZ-",
        "outputId": "83021b8b-4a7b-4a9f-8aa7-0e54950c13f2"
      },
      "execution_count": 25,
      "outputs": [
        {
          "output_type": "stream",
          "name": "stdout",
          "text": [
            "Movies Dataset:\n",
            "   movieId                               title  \\\n",
            "0        1                    Toy Story (1995)   \n",
            "1        2                      Jumanji (1995)   \n",
            "2        3             Grumpier Old Men (1995)   \n",
            "3        4            Waiting to Exhale (1995)   \n",
            "4        5  Father of the Bride Part II (1995)   \n",
            "\n",
            "                                        genres  \n",
            "0  Adventure|Animation|Children|Comedy|Fantasy  \n",
            "1                   Adventure|Children|Fantasy  \n",
            "2                               Comedy|Romance  \n",
            "3                         Comedy|Drama|Romance  \n",
            "4                                       Comedy  \n",
            "\n",
            "Ratings Dataset:\n",
            "   userId  movieId  rating  timestamp\n",
            "0       1        1     4.0  964982703\n",
            "1       1        3     4.0  964981247\n",
            "2       1        6     4.0  964982224\n",
            "3       1       47     5.0  964983815\n",
            "4       1       50     5.0  964982931\n"
          ]
        }
      ]
    },
    {
      "cell_type": "code",
      "source": [
        "# Step 1: Split genres into a better format\n",
        "movies['genres'] = movies['genres'].str.replace('|', ' ')  # Replace '|' with space\n",
        "\n",
        "# Step 2: Merge movies and ratings datasets\n",
        "movie_ratings = pd.merge(ratings, movies, on=\"movieId\")\n",
        "\n",
        "# Step 3: Check for missing values\n",
        "print(\"Missing Values in Dataset:\")\n",
        "print(movie_ratings.isnull().sum())\n",
        "\n",
        "# Step 4: Display processed dataset\n",
        "print(\"\\nProcessed Movies Data:\")\n",
        "print(movie_ratings.head())"
      ],
      "metadata": {
        "colab": {
          "base_uri": "https://localhost:8080/"
        },
        "id": "T5FGU-rkbZsa",
        "outputId": "04ee49cf-6c65-4af0-db66-e1a8487cb174"
      },
      "execution_count": 26,
      "outputs": [
        {
          "output_type": "stream",
          "name": "stdout",
          "text": [
            "Missing Values in Dataset:\n",
            "userId       0\n",
            "movieId      0\n",
            "rating       0\n",
            "timestamp    0\n",
            "title        0\n",
            "genres       0\n",
            "dtype: int64\n",
            "\n",
            "Processed Movies Data:\n",
            "   userId  movieId  rating  timestamp                        title  \\\n",
            "0       1        1     4.0  964982703             Toy Story (1995)   \n",
            "1       1        3     4.0  964981247      Grumpier Old Men (1995)   \n",
            "2       1        6     4.0  964982224                  Heat (1995)   \n",
            "3       1       47     5.0  964983815  Seven (a.k.a. Se7en) (1995)   \n",
            "4       1       50     5.0  964982931   Usual Suspects, The (1995)   \n",
            "\n",
            "                                        genres  \n",
            "0  Adventure Animation Children Comedy Fantasy  \n",
            "1                               Comedy Romance  \n",
            "2                        Action Crime Thriller  \n",
            "3                             Mystery Thriller  \n",
            "4                       Crime Mystery Thriller  \n"
          ]
        }
      ]
    },
    {
      "cell_type": "code",
      "source": [
        "# Step 1: Convert genres to lowercase text\n",
        "movies['genres'] = movies['genres'].fillna('')  # Fill NaN values with empty string\n",
        "\n",
        "# Step 2: Apply TF-IDF Vectorization\n",
        "tfidf = TfidfVectorizer(stop_words='english')\n",
        "tfidf_matrix = tfidf.fit_transform(movies['genres'])\n",
        "\n",
        "# Step 3: Compute Cosine Similarity\n",
        "cosine_sim = cosine_similarity(tfidf_matrix, tfidf_matrix)\n",
        "\n",
        "print(\"Genre-based similarity matrix created!\")\n",
        "# content_sim_df = pd.DataFrame(cosine_sim_content, index=movies['title'], columns=movies['title'])"
      ],
      "metadata": {
        "colab": {
          "base_uri": "https://localhost:8080/"
        },
        "id": "cgkc2jsJb5PA",
        "outputId": "c449a9b4-11ce-4965-8c6e-b6d925f5f08f"
      },
      "execution_count": 27,
      "outputs": [
        {
          "output_type": "stream",
          "name": "stdout",
          "text": [
            "Genre-based similarity matrix created!\n"
          ]
        }
      ]
    },
    {
      "cell_type": "code",
      "source": [
        "def recommend_movies(title, num_recommendations=5):\n",
        "    # Step 1: Get movie index by title\n",
        "    indices = pd.Series(movies.index, index=movies['title']).drop_duplicates()\n",
        "\n",
        "    if title not in indices:\n",
        "        return \"Movie not found! Please check the title.\"\n",
        "\n",
        "    idx = indices[title]  # Get index of the given movie\n",
        "\n",
        "    # Step 2: Get similarity scores of all movies with this movie\n",
        "    sim_scores = list(enumerate(cosine_sim[idx]))\n",
        "\n",
        "    # Step 3: Sort movies based on similarity scores (descending order)\n",
        "    sim_scores = sorted(sim_scores, key=lambda x: x[1], reverse=True)\n",
        "\n",
        "    # Step 4: Get top 'num_recommendations' similar movies\n",
        "    sim_scores = sim_scores[1:num_recommendations + 1]\n",
        "\n",
        "    # Step 5: Get movie indices\n",
        "    movie_indices = [i[0] for i in sim_scores]\n",
        "\n",
        "    return movies['title'].iloc[movie_indices]\n",
        "\n",
        "# Test the recommendation system\n",
        "print(\"Recommended movies similar to 'Toy Story (1995)':\")\n",
        "print(recommend_movies(\"Toy Story (1995)\"))"
      ],
      "metadata": {
        "colab": {
          "base_uri": "https://localhost:8080/"
        },
        "id": "8U2IZPdacZIZ",
        "outputId": "51d63475-ebc2-44ed-dbb9-5cc906e599ac"
      },
      "execution_count": 28,
      "outputs": [
        {
          "output_type": "stream",
          "name": "stdout",
          "text": [
            "Recommended movies similar to 'Toy Story (1995)':\n",
            "1706                                       Antz (1998)\n",
            "2355                                Toy Story 2 (1999)\n",
            "2809    Adventures of Rocky and Bullwinkle, The (2000)\n",
            "3000                  Emperor's New Groove, The (2000)\n",
            "3568                             Monsters, Inc. (2001)\n",
            "Name: title, dtype: object\n"
          ]
        }
      ]
    },
    {
      "cell_type": "code",
      "source": [
        "# # Create a pivot table where rows = movies, columns = users, values = ratings\n",
        "# movie_pivot = movie_ratings.pivot_table(index='title', columns='userId', values='rating')\n",
        "\n",
        "# # Fill NaN values with 0 (unrated movies)\n",
        "# movie_pivot = movie_pivot.fillna(0)\n",
        "\n",
        "# print(\"User-Movie Rating Matrix Created!\")\n",
        "# print(movie_pivot.head())\n",
        "\n",
        "\n",
        "\n",
        "# Create a pivot table where rows = movies, columns = users, values = ratings\n",
        "movie_pivot = movie_ratings.pivot_table(index='title', columns='userId', values='rating')\n",
        "\n",
        "# Fill NaN values with the average rating of each movie\n",
        "movie_pivot = movie_pivot.apply(lambda row: row.fillna(row.mean()), axis=1)\n",
        "\n",
        "print(\"User-Movie Rating Matrix Created!\")\n",
        "print(movie_pivot.head())"
      ],
      "metadata": {
        "colab": {
          "base_uri": "https://localhost:8080/"
        },
        "id": "15-SeWu-cdWe",
        "outputId": "57a6a17b-3a22-451b-bb42-283885fad940"
      },
      "execution_count": 29,
      "outputs": [
        {
          "output_type": "stream",
          "name": "stdout",
          "text": [
            "User-Movie Rating Matrix Created!\n",
            "userId                                   1    2    3    4    5    6    7    \\\n",
            "title                                                                        \n",
            "'71 (2014)                               4.0  4.0  4.0  4.0  4.0  4.0  4.0   \n",
            "'Hellboy': The Seeds of Creation (2004)  4.0  4.0  4.0  4.0  4.0  4.0  4.0   \n",
            "'Round Midnight (1986)                   3.5  3.5  3.5  3.5  3.5  3.5  3.5   \n",
            "'Salem's Lot (2004)                      5.0  5.0  5.0  5.0  5.0  5.0  5.0   \n",
            "'Til There Was You (1997)                4.0  4.0  4.0  4.0  4.0  4.0  4.0   \n",
            "\n",
            "userId                                   8    9    10   ...  601  602  603  \\\n",
            "title                                                   ...                  \n",
            "'71 (2014)                               4.0  4.0  4.0  ...  4.0  4.0  4.0   \n",
            "'Hellboy': The Seeds of Creation (2004)  4.0  4.0  4.0  ...  4.0  4.0  4.0   \n",
            "'Round Midnight (1986)                   3.5  3.5  3.5  ...  3.5  3.5  3.5   \n",
            "'Salem's Lot (2004)                      5.0  5.0  5.0  ...  5.0  5.0  5.0   \n",
            "'Til There Was You (1997)                4.0  4.0  4.0  ...  4.0  4.0  4.0   \n",
            "\n",
            "userId                                   604  605  606  607  608  609  610  \n",
            "title                                                                       \n",
            "'71 (2014)                               4.0  4.0  4.0  4.0  4.0  4.0  4.0  \n",
            "'Hellboy': The Seeds of Creation (2004)  4.0  4.0  4.0  4.0  4.0  4.0  4.0  \n",
            "'Round Midnight (1986)                   3.5  3.5  3.5  3.5  3.5  3.5  3.5  \n",
            "'Salem's Lot (2004)                      5.0  5.0  5.0  5.0  5.0  5.0  5.0  \n",
            "'Til There Was You (1997)                4.0  4.0  4.0  4.0  4.0  4.0  4.0  \n",
            "\n",
            "[5 rows x 610 columns]\n"
          ]
        }
      ]
    },
    {
      "cell_type": "code",
      "source": [
        "# from sklearn.metrics.pairwise import cosine_similarity\n",
        "\n",
        "# # Compute similarity between movies based on user ratings\n",
        "# movie_similarity = cosine_similarity(movie_pivot)\n",
        "\n",
        "# # Convert similarity into DataFrame\n",
        "# movie_sim_df = pd.DataFrame(movie_similarity, index=movie_pivot.index, columns=movie_pivot.index)\n",
        "\n",
        "# print(\"Movie similarity matrix created!\")\n",
        "# print(movie_sim_df.head())  # Display the first few rows of the similarity matrix\n",
        "\n",
        "\n",
        "\n",
        "from sklearn.metrics.pairwise import cosine_similarity\n",
        "import pandas as pd\n",
        "\n",
        "# Create a pivot table where rows = movies, columns = users, values = ratings\n",
        "movie_pivot = movie_ratings.pivot_table(index='title', columns='userId', values='rating')\n",
        "\n",
        "# Fill NaN values with the average rating of each movie\n",
        "movie_pivot = movie_pivot.apply(lambda row: row.fillna(row.mean()), axis=1)\n",
        "\n",
        "# Filter movies that have a reasonable number of ratings (e.g., at least 10 ratings)\n",
        "movie_pivot_filtered = movie_pivot.loc[movie_pivot.count(axis=1) > 10]\n",
        "\n",
        "# Compute similarity between movies based on user ratings\n",
        "movie_similarity = cosine_similarity(movie_pivot_filtered)\n",
        "\n",
        "# Convert similarity into DataFrame\n",
        "movie_sim_df = pd.DataFrame(movie_similarity, index=movie_pivot_filtered.index, columns=movie_pivot_filtered.index)\n",
        "\n",
        "print(\"Movie similarity matrix created!\")\n",
        "print(movie_sim_df.head())  # Display the first few rows of the similarity matrix"
      ],
      "metadata": {
        "colab": {
          "base_uri": "https://localhost:8080/"
        },
        "id": "f3o8u4f7dAdf",
        "outputId": "d07532c7-6680-415b-eda4-64989f0679f0"
      },
      "execution_count": 30,
      "outputs": [
        {
          "output_type": "stream",
          "name": "stdout",
          "text": [
            "Movie similarity matrix created!\n",
            "title                                    '71 (2014)  \\\n",
            "title                                                 \n",
            "'71 (2014)                                 1.000000   \n",
            "'Hellboy': The Seeds of Creation (2004)    1.000000   \n",
            "'Round Midnight (1986)                     1.000000   \n",
            "'Salem's Lot (2004)                        1.000000   \n",
            "'Til There Was You (1997)                  0.999898   \n",
            "\n",
            "title                                    'Hellboy': The Seeds of Creation (2004)  \\\n",
            "title                                                                              \n",
            "'71 (2014)                                                              1.000000   \n",
            "'Hellboy': The Seeds of Creation (2004)                                 1.000000   \n",
            "'Round Midnight (1986)                                                  1.000000   \n",
            "'Salem's Lot (2004)                                                     1.000000   \n",
            "'Til There Was You (1997)                                               0.999898   \n",
            "\n",
            "title                                    'Round Midnight (1986)  \\\n",
            "title                                                             \n",
            "'71 (2014)                                             1.000000   \n",
            "'Hellboy': The Seeds of Creation (2004)                1.000000   \n",
            "'Round Midnight (1986)                                 1.000000   \n",
            "'Salem's Lot (2004)                                    1.000000   \n",
            "'Til There Was You (1997)                              0.999898   \n",
            "\n",
            "title                                    'Salem's Lot (2004)  \\\n",
            "title                                                          \n",
            "'71 (2014)                                          1.000000   \n",
            "'Hellboy': The Seeds of Creation (2004)             1.000000   \n",
            "'Round Midnight (1986)                              1.000000   \n",
            "'Salem's Lot (2004)                                 1.000000   \n",
            "'Til There Was You (1997)                           0.999898   \n",
            "\n",
            "title                                    'Til There Was You (1997)  \\\n",
            "title                                                                \n",
            "'71 (2014)                                                0.999898   \n",
            "'Hellboy': The Seeds of Creation (2004)                   0.999898   \n",
            "'Round Midnight (1986)                                    0.999898   \n",
            "'Salem's Lot (2004)                                       0.999898   \n",
            "'Til There Was You (1997)                                 1.000000   \n",
            "\n",
            "title                                    'Tis the Season for Love (2015)  \\\n",
            "title                                                                      \n",
            "'71 (2014)                                                      1.000000   \n",
            "'Hellboy': The Seeds of Creation (2004)                         1.000000   \n",
            "'Round Midnight (1986)                                          1.000000   \n",
            "'Salem's Lot (2004)                                             1.000000   \n",
            "'Til There Was You (1997)                                       0.999898   \n",
            "\n",
            "title                                    'burbs, The (1989)  \\\n",
            "title                                                         \n",
            "'71 (2014)                                         0.998018   \n",
            "'Hellboy': The Seeds of Creation (2004)            0.998018   \n",
            "'Round Midnight (1986)                             0.998018   \n",
            "'Salem's Lot (2004)                                0.998018   \n",
            "'Til There Was You (1997)                          0.997916   \n",
            "\n",
            "title                                    'night Mother (1986)  \\\n",
            "title                                                           \n",
            "'71 (2014)                                           1.000000   \n",
            "'Hellboy': The Seeds of Creation (2004)              1.000000   \n",
            "'Round Midnight (1986)                               1.000000   \n",
            "'Salem's Lot (2004)                                  1.000000   \n",
            "'Til There Was You (1997)                            0.999898   \n",
            "\n",
            "title                                    (500) Days of Summer (2009)  \\\n",
            "title                                                                  \n",
            "'71 (2014)                                                  0.997217   \n",
            "'Hellboy': The Seeds of Creation (2004)                     0.997217   \n",
            "'Round Midnight (1986)                                      0.997217   \n",
            "'Salem's Lot (2004)                                         0.997217   \n",
            "'Til There Was You (1997)                                   0.997115   \n",
            "\n",
            "title                                    *batteries not included (1987)  ...  \\\n",
            "title                                                                    ...   \n",
            "'71 (2014)                                                     0.999892  ...   \n",
            "'Hellboy': The Seeds of Creation (2004)                        0.999892  ...   \n",
            "'Round Midnight (1986)                                         0.999892  ...   \n",
            "'Salem's Lot (2004)                                            0.999892  ...   \n",
            "'Til There Was You (1997)                                      0.999789  ...   \n",
            "\n",
            "title                                    Zulu (2013)  [REC] (2007)  \\\n",
            "title                                                                \n",
            "'71 (2014)                                  1.000000      0.999766   \n",
            "'Hellboy': The Seeds of Creation (2004)     1.000000      0.999766   \n",
            "'Round Midnight (1986)                      1.000000      0.999766   \n",
            "'Salem's Lot (2004)                         1.000000      0.999766   \n",
            "'Til There Was You (1997)                   0.999898      0.999663   \n",
            "\n",
            "title                                    [REC]² (2009)  \\\n",
            "title                                                    \n",
            "'71 (2014)                                    0.999929   \n",
            "'Hellboy': The Seeds of Creation (2004)       0.999929   \n",
            "'Round Midnight (1986)                        0.999929   \n",
            "'Salem's Lot (2004)                           0.999929   \n",
            "'Til There Was You (1997)                     0.999826   \n",
            "\n",
            "title                                    [REC]³ 3 Génesis (2012)  \\\n",
            "title                                                              \n",
            "'71 (2014)                                              1.000000   \n",
            "'Hellboy': The Seeds of Creation (2004)                 1.000000   \n",
            "'Round Midnight (1986)                                  1.000000   \n",
            "'Salem's Lot (2004)                                     1.000000   \n",
            "'Til There Was You (1997)                               0.999898   \n",
            "\n",
            "title                                    anohana: The Flower We Saw That Day - The Movie (2013)  \\\n",
            "title                                                                                             \n",
            "'71 (2014)                                                                        1.000000        \n",
            "'Hellboy': The Seeds of Creation (2004)                                           1.000000        \n",
            "'Round Midnight (1986)                                                            1.000000        \n",
            "'Salem's Lot (2004)                                                               1.000000        \n",
            "'Til There Was You (1997)                                                         0.999898        \n",
            "\n",
            "title                                    eXistenZ (1999)  xXx (2002)  \\\n",
            "title                                                                  \n",
            "'71 (2014)                                      0.999255    0.997714   \n",
            "'Hellboy': The Seeds of Creation (2004)         0.999255    0.997714   \n",
            "'Round Midnight (1986)                          0.999255    0.997714   \n",
            "'Salem's Lot (2004)                             0.999255    0.997714   \n",
            "'Til There Was You (1997)                       0.999152    0.997611   \n",
            "\n",
            "title                                    xXx: State of the Union (2005)  \\\n",
            "title                                                                     \n",
            "'71 (2014)                                                     0.999795   \n",
            "'Hellboy': The Seeds of Creation (2004)                        0.999795   \n",
            "'Round Midnight (1986)                                         0.999795   \n",
            "'Salem's Lot (2004)                                            0.999795   \n",
            "'Til There Was You (1997)                                      0.999693   \n",
            "\n",
            "title                                    ¡Three Amigos! (1986)  \\\n",
            "title                                                            \n",
            "'71 (2014)                                            0.998147   \n",
            "'Hellboy': The Seeds of Creation (2004)               0.998147   \n",
            "'Round Midnight (1986)                                0.998147   \n",
            "'Salem's Lot (2004)                                   0.998147   \n",
            "'Til There Was You (1997)                             0.998044   \n",
            "\n",
            "title                                    À nous la liberté (Freedom for Us) (1931)  \n",
            "title                                                                               \n",
            "'71 (2014)                                                                1.000000  \n",
            "'Hellboy': The Seeds of Creation (2004)                                   1.000000  \n",
            "'Round Midnight (1986)                                                    1.000000  \n",
            "'Salem's Lot (2004)                                                       1.000000  \n",
            "'Til There Was You (1997)                                                 0.999898  \n",
            "\n",
            "[5 rows x 9719 columns]\n"
          ]
        }
      ]
    },
    {
      "cell_type": "code",
      "source": [
        "def recommend_by_ratings(movie_title, num_recommendations=5):\n",
        "    if movie_title not in movie_sim_df.index:\n",
        "        return \"Movie not found! Please check the title.\"\n",
        "\n",
        "    # Get similarity scores for the movie\n",
        "    similar_scores = movie_sim_df[movie_title].sort_values(ascending=False)\n",
        "\n",
        "    # Get top recommended movies (excluding the input movie itself)\n",
        "    recommended_movies = similar_scores.iloc[1:num_recommendations + 1].index\n",
        "\n",
        "    return recommended_movies\n",
        "\n",
        "# Test the recommendation system\n",
        "print(\"Recommended movies based on 'Toy Story (1995)':\")\n",
        "print(recommend_by_ratings(\"Toy Story (1995)\"))"
      ],
      "metadata": {
        "colab": {
          "base_uri": "https://localhost:8080/"
        },
        "id": "fGtALMsqd7K0",
        "outputId": "2c157832-4448-454c-b37b-4cbe74247018"
      },
      "execution_count": 31,
      "outputs": [
        {
          "output_type": "stream",
          "name": "stdout",
          "text": [
            "Recommended movies based on 'Toy Story (1995)':\n",
            "Index(['400 Blows, The (Les quatre cents coups) (1959)',\n",
            "       'Station Agent, The (2003)', 'The Nice Guys (2016)',\n",
            "       'Stranger Than Paradise (1984)', 'Untitled Spider-Man Reboot (2017)'],\n",
            "      dtype='object', name='title')\n"
          ]
        }
      ]
    },
    {
      "cell_type": "code",
      "source": [],
      "metadata": {
        "id": "LV3FqGiveDLO"
      },
      "execution_count": 31,
      "outputs": []
    }
  ]
}